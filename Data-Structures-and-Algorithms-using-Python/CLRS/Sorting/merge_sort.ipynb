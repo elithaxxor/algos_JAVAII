{
 "cells": [
  {
   "cell_type": "markdown",
   "metadata": {},
   "source": [
    "Divide and Conquer Approach\n",
    "Merge Sort"
   ]
  },
  {
   "cell_type": "code",
   "execution_count": 16,
   "metadata": {},
   "outputs": [
    {
     "name": "stdout",
     "output_type": "stream",
     "text": [
      "3 41 52 26 38 57 9 49\n",
      "left:  [3]\n",
      "right:  [41]\n",
      "result:  [3, 41]\n",
      "left:  [3, 41]\n",
      "left:  [52]\n",
      "right:  [26]\n",
      "result:  [26, 52]\n",
      "right:  [26, 52]\n",
      "result:  [3, 26, 41, 52]\n",
      "left:  [3, 26, 41, 52]\n",
      "left:  [38]\n",
      "right:  [57]\n",
      "result:  [38, 57]\n",
      "left:  [38, 57]\n",
      "left:  [9]\n",
      "right:  [49]\n",
      "result:  [9, 49]\n",
      "right:  [9, 49]\n",
      "result:  [9, 38, 49, 57]\n",
      "right:  [9, 38, 49, 57]\n",
      "result:  [3, 9, 26, 38, 41, 49, 52, 57]\n",
      "[3, 9, 26, 38, 41, 49, 52, 57]\n"
     ]
    }
   ],
   "source": [
    "# merge sort logic recursive  3 41 52 26 38 57 9 49\n",
    "def merge(left, right):\n",
    "    \"\"\"Merge sort merging function.\"\"\"\n",
    "\n",
    "    left_index, right_index = 0, 0\n",
    "    result = []\n",
    "    while left_index < len(left) and right_index < len(right):\n",
    "        if left[left_index] < right[right_index]:\n",
    "            result.append(left[left_index])\n",
    "            left_index += 1\n",
    "        else:\n",
    "            result.append(right[right_index])\n",
    "            right_index += 1\n",
    "\n",
    "    result += left[left_index:]\n",
    "    result += right[right_index:]\n",
    "    print('result: ', result)\n",
    "    return result\n",
    "\n",
    "\n",
    "def merge_sort(array):\n",
    "    \"\"\"Merge sort algorithm implementation.\"\"\"\n",
    "\n",
    "    if len(array) <= 1:  # base case\n",
    "        return array\n",
    "\n",
    "    # divide array in half and merge sort recursively\n",
    "    half = len(array) // 2\n",
    "    left = merge_sort(array[:half])\n",
    "    print('left: ', left)\n",
    "    right = merge_sort(array[half:])\n",
    "    print('right: ', right)\n",
    "\n",
    "    return merge(left, right)\n",
    "    \n",
    "    \n",
    "\n",
    "if __name__ == '__main__':\n",
    "    t = input()\n",
    "\n",
    "    q = t.split()\n",
    "    q = [int (x) for x in q]\n",
    "    sorted_array = merge_sort(q)\n",
    "    print(sorted_array)"
   ]
  },
  {
   "cell_type": "code",
   "execution_count": null,
   "metadata": {},
   "outputs": [],
   "source": []
  }
 ],
 "metadata": {
  "kernelspec": {
   "display_name": "Python 3",
   "language": "python",
   "name": "python3"
  },
  "language_info": {
   "codemirror_mode": {
    "name": "ipython",
    "version": 3
   },
   "file_extension": ".py",
   "mimetype": "text/x-python",
   "name": "python",
   "nbconvert_exporter": "python",
   "pygments_lexer": "ipython3",
   "version": "3.6.5"
  }
 },
 "nbformat": 4,
 "nbformat_minor": 2
}
