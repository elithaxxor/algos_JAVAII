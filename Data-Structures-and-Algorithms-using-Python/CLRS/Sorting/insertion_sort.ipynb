{
 "cells": [
  {
   "cell_type": "markdown",
   "metadata": {},
   "source": [
    "Insertion Sort"
   ]
  },
  {
   "cell_type": "code",
   "execution_count": 5,
   "metadata": {},
   "outputs": [],
   "source": [
    "#!/bin/python3\n",
    "\n",
    "import math\n",
    "import os\n",
    "import random\n",
    "import re\n",
    "import sys"
   ]
  },
  {
   "cell_type": "code",
   "execution_count": 19,
   "metadata": {},
   "outputs": [
    {
     "name": "stdout",
     "output_type": "stream",
     "text": [
      "5 2 4 6 1 3\n",
      "5 2 4 6 1 3\n",
      "<class 'str'>\n",
      "[1, 2, 3, 4, 5, 6]\n",
      "[1, 2, 3, 4, 5, 6]\n"
     ]
    }
   ],
   "source": [
    "# insertion sort ascending\n",
    "def insertion_sort_ascending(q):      \n",
    "    for j in range(1, len(q)):\n",
    "        key = q[j]\n",
    "        i = j - 1\n",
    "        \n",
    "        while i>-1 and q[i]>key:\n",
    "            q[i+1] = q[i]\n",
    "            i = i-1\n",
    "        q[i+1] = key\n",
    "    \n",
    "    print(q)\n",
    "\n",
    "\n",
    "def insertion_sort_descending(q):      \n",
    "    for j in range(len(q)-1,0,-1):\n",
    "        key = q[j]\n",
    "        i = j + 1\n",
    "        \n",
    "        while i<(len(q)) and q[i]<key:\n",
    "            q[i-1] = q[i]\n",
    "            i = i+1\n",
    "        q[i-1] = key\n",
    "    \n",
    "    print(q)\n",
    "\n",
    "            \n",
    "\n",
    "\n",
    "\n",
    "if __name__ == '__main__':\n",
    "    t = input()\n",
    "    print(t)\n",
    "    print(type(t))\n",
    "\n",
    "    q = t.split()\n",
    "    q = [int (x) for x in q]\n",
    "    insertion_sort_ascending(q)\n",
    "    insertion_sort_descending(q)"
   ]
  },
  {
   "cell_type": "code",
   "execution_count": null,
   "metadata": {},
   "outputs": [],
   "source": [
    "\n"
   ]
  }
 ],
 "metadata": {
  "kernelspec": {
   "display_name": "Python 3",
   "language": "python",
   "name": "python3"
  },
  "language_info": {
   "codemirror_mode": {
    "name": "ipython",
    "version": 3
   },
   "file_extension": ".py",
   "mimetype": "text/x-python",
   "name": "python",
   "nbconvert_exporter": "python",
   "pygments_lexer": "ipython3",
   "version": "3.6.5"
  }
 },
 "nbformat": 4,
 "nbformat_minor": 2
}
